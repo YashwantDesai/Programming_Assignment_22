{
 "cells": [
  {
   "cell_type": "markdown",
   "id": "0c27a818",
   "metadata": {},
   "source": [
    "# Yashwant Desai –  Programming_Assingment 22"
   ]
  },
  {
   "cell_type": "markdown",
   "id": "9f377b0f",
   "metadata": {},
   "source": [
    "# Question 1"
   ]
  },
  {
   "cell_type": "markdown",
   "id": "7d389e1e",
   "metadata": {},
   "source": [
    "Create a function that takes three parameters where:\n",
    "•\tx is the start of the range (inclusive).\n",
    "•\ty is the end of the range (inclusive).\n",
    "•\tn is the divisor to be checked against.\n",
    "Return an ordered list with numbers in the range that are divisible by the third parameter n. Return an empty list if there are no numbers that are divisible by n.\n",
    "Examples\n",
    "list_operation(1, 10, 3) ➞ [3, 6, 9]\n",
    "\n",
    "list_operation(7, 9, 2) ➞ [8]\n",
    "\n",
    "list_operation(15, 20, 7) ➞ []"
   ]
  },
  {
   "cell_type": "code",
   "execution_count": 25,
   "id": "d1340583",
   "metadata": {},
   "outputs": [
    {
     "name": "stdout",
     "output_type": "stream",
     "text": [
      "list_operation(1, 10, 3) ➞ [3, 6, 9]\n",
      "list_operation(7, 9, 2) ➞ [8]\n",
      "list_operation(15, 20, 7) ➞ []\n"
     ]
    }
   ],
   "source": [
    "def list_operation(x, y, n):\n",
    "    divisible_numb = [num for num in range(x, y+1) if num % n == 0]\n",
    "    return divisible_numb\n",
    "print(f\"list_operation(1, 10, 3) ➞ {list_operation(1, 10, 3)}\")\n",
    "print(f\"list_operation(7, 9, 2) ➞ {list_operation(7, 9, 2)}\")\n",
    "print(f\"list_operation(15, 20, 7) ➞ {list_operation(15, 20, 7)}\")"
   ]
  },
  {
   "cell_type": "markdown",
   "id": "12810aac",
   "metadata": {},
   "source": [
    "# Question2"
   ]
  },
  {
   "cell_type": "markdown",
   "id": "2260d5f6",
   "metadata": {},
   "source": [
    "Create a function that takes in two lists and returns True if the second list follows the first list by one element, and False otherwise. In other words, determine if the second list is the first list shifted to the right by 1.\n",
    "Examples\n",
    "simon_says([1, 2], [5, 1]) ➞ True\n",
    "\n",
    "simon_says([1, 2], [5, 5]) ➞ False\n",
    "\n",
    "simon_says([1, 2, 3, 4, 5], [0, 1, 2, 3, 4]) ➞ True\n",
    "\n",
    "simon_says([1, 2, 3, 4, 5], [5, 5, 1, 2, 3]) ➞ False\n",
    "Notes\n",
    "•\tBoth input lists will be of the same length, and will have a minimum length of 2.\n",
    "•\tThe values of the 0-indexed element in the second list and the n-1th indexed element in the first list do not matter."
   ]
  },
  {
   "cell_type": "code",
   "execution_count": 26,
   "id": "86d95d14",
   "metadata": {},
   "outputs": [
    {
     "name": "stdout",
     "output_type": "stream",
     "text": [
      "simon_says([1, 2], [5, 1]) ➞ True\n",
      "simon_says([1, 2], [5, 5]) ➞ False\n",
      "simon_says([1, 2, 3, 4, 5], [0, 1, 2, 3, 4]) ➞ True\n",
      "simon_says([1, 2, 3, 4, 5], [5, 5, 1, 2, 3]) ➞ False\n"
     ]
    }
   ],
   "source": [
    "def simon_says(list1, list2):\n",
    "    for i in range(1, len(list2)):\n",
    "        if list2[i] != list1[i - 1]:\n",
    "            return False\n",
    "    return True\n",
    "print(f\"simon_says([1, 2], [5, 1]) ➞ {simon_says([1, 2], [5, 1])}\")\n",
    "print(f\"simon_says([1, 2], [5, 5]) ➞ {simon_says([1, 2], [5, 5])}\")\n",
    "print(f\"simon_says([1, 2, 3, 4, 5], [0, 1, 2, 3, 4]) ➞ {simon_says([1, 2, 3, 4, 5], [0, 1, 2, 3, 4])}\")\n",
    "print(f\"simon_says([1, 2, 3, 4, 5], [5, 5, 1, 2, 3]) ➞ {simon_says([1, 2, 3, 4, 5], [5, 5, 1, 2, 3])}\")"
   ]
  },
  {
   "cell_type": "markdown",
   "id": "8a0797a2",
   "metadata": {},
   "source": [
    "# Question3"
   ]
  },
  {
   "cell_type": "markdown",
   "id": "46c03b3c",
   "metadata": {},
   "source": [
    "A group of friends have decided to start a secret society. The name will be the first letter of each of their names, sorted in alphabetical order.\n",
    "Create a function that takes in a list of names and returns the name of the secret society.\n",
    "Examples\n",
    "society_name([\"Adam\", \"Sarah\", \"Malcolm\"]) ➞ \"AMS\"\n",
    "\n",
    "society_name([\"Harry\", \"Newt\", \"Luna\", \"Cho\"]) ➞ \"CHLN\"\n",
    "\n",
    "society_name([\"Phoebe\", \"Chandler\", \"Rachel\", \"Ross\", \"Monica\", \"Joey\"])"
   ]
  },
  {
   "cell_type": "code",
   "execution_count": 27,
   "id": "5e113afa",
   "metadata": {},
   "outputs": [
    {
     "name": "stdout",
     "output_type": "stream",
     "text": [
      "society_name([\"Adam\", \"Sarah\", \"Malcolm\"]) ➞ AMS\n",
      "society_name([\"Harry\", \"Newt\", \"Luna\", \"Cho\"]) ➞ CHLN\n",
      "society_name([\"Phoebe\", \"Chandler\", \"Rachel\", \"Ross\", \"Monica\", \"Joey\"]) ➞ CJMPRR\n"
     ]
    }
   ],
   "source": [
    "def society_name(names):\n",
    "    result = ''.join(name[0] for name in sorted(names))\n",
    "    return result\n",
    "print(f\"\"\"society_name([\"Adam\", \"Sarah\", \"Malcolm\"]) ➞ {society_name([\"Adam\", \"Sarah\", \"Malcolm\"])}\"\"\")\n",
    "print(f\"\"\"society_name([\"Harry\", \"Newt\", \"Luna\", \"Cho\"]) ➞ {society_name([\"Harry\", \"Newt\", \"Luna\", \"Cho\"])}\"\"\")\n",
    "print(f\"\"\"society_name([\"Phoebe\", \"Chandler\", \"Rachel\", \"Ross\", \"Monica\", \"Joey\"]) ➞ {society_name([\"Phoebe\", \"Chandler\", \"Rachel\", \"Ross\", \"Monica\", \"Joey\"])}\"\"\")"
   ]
  },
  {
   "cell_type": "markdown",
   "id": "e6de3aa6",
   "metadata": {},
   "source": [
    "# Question4"
   ]
  },
  {
   "cell_type": "markdown",
   "id": "9556e9bc",
   "metadata": {},
   "source": [
    "An isogram is a word that has no duplicate letters. Create a function that takes a string and returns either True or False depending on whether or not it's an \"isogram\".\n",
    "Examples\n",
    "is_isogram(\"Algorism\") ➞ True\n",
    "\n",
    "is_isogram(\"PasSword\") ➞ False\n",
    "--Not case sensitive.\n",
    "\n",
    "is_isogram(\"Consecutive\") ➞ False\n",
    "Notes\n",
    "•\tIgnore letter case (should not be case sensitive).\n",
    "•\tAll test cases contain valid one word strings."
   ]
  },
  {
   "cell_type": "code",
   "execution_count": 28,
   "id": "4f9ddc3d",
   "metadata": {},
   "outputs": [
    {
     "name": "stdout",
     "output_type": "stream",
     "text": [
      "is_isogram(\"Algorism\") ➞ True\n",
      "is_isogram(\"PasSword\") ➞ False\n",
      "is_isogram(\"Consecutive\") ➞ False\n"
     ]
    }
   ],
   "source": [
    "def is_isogram(word):\n",
    "    word = word.lower()\n",
    "    seen_characters = set()\n",
    "    for char in word:\n",
    "        if char in seen_characters:\n",
    "            return False\n",
    "        seen_characters.add(char)\n",
    "    return True\n",
    "print(f\"\"\"is_isogram(\"Algorism\") ➞ {is_isogram(\"Algorism\")}\"\"\")\n",
    "print(f\"\"\"is_isogram(\"PasSword\") ➞ {is_isogram(\"PasSword\")}\"\"\")\n",
    "print(f\"\"\"is_isogram(\"Consecutive\") ➞ {is_isogram(\"Consecutive\")}\"\"\")"
   ]
  },
  {
   "cell_type": "markdown",
   "id": "a7febb67",
   "metadata": {},
   "source": [
    "# Question5"
   ]
  },
  {
   "cell_type": "markdown",
   "id": "6d228591",
   "metadata": {},
   "source": [
    "Create a function that takes a string and returns True or False, depending on whether the characters are in order or not.\n",
    "Examples\n",
    "is_in_order(\"abc\") ➞ True\n",
    "\n",
    "is_in_order(\"edabit\") ➞ False\n",
    "\n",
    "is_in_order(\"123\") ➞ True\n",
    "\n",
    "is_in_order(\"xyzz\") ➞ True\n",
    "Notes\n",
    "You don't have to handle empty strings."
   ]
  },
  {
   "cell_type": "code",
   "execution_count": 29,
   "id": "55f42386",
   "metadata": {},
   "outputs": [
    {
     "name": "stdout",
     "output_type": "stream",
     "text": [
      "is_in_order(\"abc\") ➞ True\n",
      "is_in_order(\"edabit\") ➞ False\n",
      "is_in_order(\"123\") ➞ True\n",
      "is_in_order(\"xyzz\") ➞ True\n"
     ]
    }
   ],
   "source": [
    "def is_in_order(s):\n",
    "    for i in range(len(s) - 1):\n",
    "        if s[i] > s[i + 1]:\n",
    "            return False\n",
    "    return True\n",
    "print(f\"\"\"is_in_order(\"abc\") ➞ {is_in_order(\"abc\")}\"\"\")\n",
    "print(f\"\"\"is_in_order(\"edabit\") ➞ {is_in_order(\"edabit\")}\"\"\")\n",
    "print(f\"\"\"is_in_order(\"123\") ➞ {is_in_order(\"123\")}\"\"\")\n",
    "print(f\"\"\"is_in_order(\"xyzz\") ➞ {is_in_order(\"xyzz\")}\"\"\")"
   ]
  },
  {
   "cell_type": "markdown",
   "id": "a79c0885",
   "metadata": {},
   "source": [
    "# Done Regards,Yashwant"
   ]
  }
 ],
 "metadata": {
  "kernelspec": {
   "display_name": "Python 3 (ipykernel)",
   "language": "python",
   "name": "python3"
  },
  "language_info": {
   "codemirror_mode": {
    "name": "ipython",
    "version": 3
   },
   "file_extension": ".py",
   "mimetype": "text/x-python",
   "name": "python",
   "nbconvert_exporter": "python",
   "pygments_lexer": "ipython3",
   "version": "3.9.13"
  }
 },
 "nbformat": 4,
 "nbformat_minor": 5
}
